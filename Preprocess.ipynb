{
 "cells": [
  {
   "cell_type": "markdown",
   "metadata": {},
   "source": [
    "# About\n",
    "\n",
    "This python script downloads and cleans up the KDD 1999 cup competition data. "
   ]
  },
  {
   "cell_type": "code",
   "execution_count": null,
   "metadata": {
    "collapsed": false
   },
   "outputs": [
    {
     "name": "stdout",
     "output_type": "stream",
     "text": [
      "--2016-02-19 17:35:23--  http://kdd.ics.uci.edu/databases/kddcup99/kddcup.data.gz\n",
      "Resolving kdd.ics.uci.edu... 128.195.1.95\n",
      "Connecting to kdd.ics.uci.edu|128.195.1.95|:80... connected.\n",
      "HTTP request sent, awaiting response... 200 OK\n",
      "Length: 18115902 (17M) [application/x-gzip]\n",
      "Saving to: 'kddcup.data.gz'\n",
      "\n",
      "kddcup.data.gz      100%[=====================>]  17.28M  1.91MB/s   in 10s    \n",
      "\n",
      "2016-02-19 17:35:33 (1.68 MB/s) - 'kddcup.data.gz' saved [18115902/18115902]\n",
      "\n",
      "kddcup.data already exists -- do you wish to overwrite (y or n)? "
     ]
    }
   ],
   "source": [
    "!wget http://kdd.ics.uci.edu/databases/kddcup99/kddcup.data.gz\n",
    "!gzip -d kddcup.data.gz"
   ]
  },
  {
   "cell_type": "code",
   "execution_count": null,
   "metadata": {
    "collapsed": false
   },
   "outputs": [],
   "source": [
    "f = open(\"kddcup.data\", \"rb\").read().split(\"\\n\")\n",
    "data_raw = []\n",
    "labels_raw = []\n",
    "for line in f[:-2]:\n",
    "    data_raw.append(line.split(\",\")[:-1])\n",
    "    labels_raw.append(line.split(\",\")[-1])\n",
    "\n",
    "    \n",
    "types = [\"n\",\"s\",\"s\",\"s\",\"n\",\"n\",\"n\",\"n\",\"n\",\"n\",\"n\",\"n\",\n",
    "         \"n\",\"n\",\"n\",\"n\",\"n\",\"n\",\"n\",\"n\",\"n\",\"n\",\"n\",\"n\",\n",
    "         \"n\",\"n\",\"n\",\"n\",\"n\",\"n\",\"n\",\"n\",\"n\",\"n\",\"n\",\"n\",\n",
    "         \"n\",\"n\",\"n\",\"n\",\"n\"]\n",
    "nf = len(data_raw[0])\n",
    "ns = len(data_raw)\n",
    "data = np.zeros((ns,1))\n",
    "\n",
    "for i in range(nf):\n",
    "    feats = np.array([data_raw[n][i] for n in range(ns)])\n",
    "    if types[i] == \"n\":\n",
    "        x = np.array([float(x) for x in feats])\n",
    "        data = np.column_stack((data, x))\n",
    "    elif types[i] == \"s\":\n",
    "        vals = np.unique(feats)\n",
    "        keys = range(len(vals))\n",
    "        md = dict([(v,k) for v,k in map(None, vals, keys)])\n",
    "        new_feat = np.zeros((ns,len(keys)))\n",
    "        for n in range(ns):\n",
    "            new_feat[n,keys[md[feats[n]]]] = 1\n",
    "        data = np.column_stack((data, new_feat))\n",
    "\n",
    "vals = np.unique(labels_raw)\n",
    "keys = range(len(vals))\n",
    "md = dict([(v,k) for v,k in map(None, vals, keys)])\n",
    "labels = np.zeros((ns,))\n",
    "for n in range(ns):\n",
    "    labels[n] = md[labels_raw[n]]\n",
    "    \n",
    "labels = labels.tolist()\n",
    "data = data.tolist()    \n",
    "\n",
    "\n",
    "print \"Writing Data\"\n",
    "f = open('kdd99_data.txt', 'w')\n",
    "for row in data: \n",
    "    s = \"\"\n",
    "    for x in row[:-1]:\n",
    "        s += str(x) + \",\"\n",
    "    s += str(row[-1])+\"\\n\"\n",
    "    f.write(s)\n",
    "f.close()\n",
    "\n",
    "print \"Writing Labels\"\n",
    "f = open('kdd99_labels.txt', 'w')\n",
    "for row in labels: \n",
    "    f.write(str(int(row))+\"\\n\")\n",
    "f.close()\n"
   ]
  },
  {
   "cell_type": "code",
   "execution_count": null,
   "metadata": {
    "collapsed": false
   },
   "outputs": [],
   "source": []
  },
  {
   "cell_type": "code",
   "execution_count": null,
   "metadata": {
    "collapsed": false
   },
   "outputs": [],
   "source": []
  },
  {
   "cell_type": "code",
   "execution_count": null,
   "metadata": {
    "collapsed": true
   },
   "outputs": [],
   "source": []
  }
 ],
 "metadata": {
  "kernelspec": {
   "display_name": "Python 2",
   "language": "python",
   "name": "python2"
  },
  "language_info": {
   "codemirror_mode": {
    "name": "ipython",
    "version": 2
   },
   "file_extension": ".py",
   "mimetype": "text/x-python",
   "name": "python",
   "nbconvert_exporter": "python",
   "pygments_lexer": "ipython2",
   "version": "2.7.11"
  }
 },
 "nbformat": 4,
 "nbformat_minor": 0
}
